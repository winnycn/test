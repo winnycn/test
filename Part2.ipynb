{
 "cells": [
  {
   "cell_type": "code",
   "execution_count": null,
   "metadata": {},
   "outputs": [],
   "source": [
    "#ptt爬蟲"
   ]
  },
  {
   "cell_type": "code",
   "execution_count": null,
   "metadata": {},
   "outputs": [],
   "source": []
  },
  {
   "cell_type": "code",
   "execution_count": null,
   "metadata": {},
   "outputs": [],
   "source": []
  },
  {
   "cell_type": "code",
   "execution_count": 43,
   "metadata": {},
   "outputs": [
    {
     "ename": "KeyError",
     "evalue": "'author'",
     "output_type": "error",
     "traceback": [
      "\u001b[1;31m---------------------------------------------------------------------------\u001b[0m",
      "\u001b[1;31mKeyError\u001b[0m                                  Traceback (most recent call last)",
      "\u001b[1;32m<ipython-input-43-f91b5e9989b5>\u001b[0m in \u001b[0;36m<module>\u001b[1;34m\u001b[0m\n\u001b[0;32m     88\u001b[0m \u001b[0mmetadata\u001b[0m \u001b[1;33m=\u001b[0m \u001b[0mget_paged_meta\u001b[0m\u001b[1;33m(\u001b[0m\u001b[0mstart_url\u001b[0m\u001b[1;33m,\u001b[0m \u001b[0mnum_pages\u001b[0m\u001b[1;33m=\u001b[0m\u001b[1;36m5\u001b[0m\u001b[1;33m)\u001b[0m\u001b[1;33m\u001b[0m\u001b[1;33m\u001b[0m\u001b[0m\n\u001b[0;32m     89\u001b[0m \u001b[1;32mfor\u001b[0m \u001b[0mmeta\u001b[0m \u001b[1;32min\u001b[0m \u001b[0mmetadata\u001b[0m\u001b[1;33m:\u001b[0m\u001b[1;33m\u001b[0m\u001b[1;33m\u001b[0m\u001b[0m\n\u001b[1;32m---> 90\u001b[1;33m     \u001b[0mprint\u001b[0m\u001b[1;33m(\u001b[0m \u001b[0mname\u001b[0m\u001b[1;33m,\u001b[0m\u001b[0mmeta\u001b[0m\u001b[1;33m[\u001b[0m\u001b[1;34m'title'\u001b[0m\u001b[1;33m]\u001b[0m\u001b[1;33m,\u001b[0m \u001b[0mmeta\u001b[0m\u001b[1;33m[\u001b[0m\u001b[1;34m'date'\u001b[0m\u001b[1;33m]\u001b[0m\u001b[1;33m,\u001b[0m \u001b[0mmeta\u001b[0m\u001b[1;33m[\u001b[0m\u001b[1;34m'author'\u001b[0m\u001b[1;33m]\u001b[0m\u001b[1;33m,\u001b[0m\u001b[0mmeta\u001b[0m\u001b[1;33m[\u001b[0m\u001b[1;34m'content'\u001b[0m\u001b[1;33m]\u001b[0m\u001b[1;33m)\u001b[0m\u001b[1;33m\u001b[0m\u001b[1;33m\u001b[0m\u001b[0m\n\u001b[0m",
      "\u001b[1;31mKeyError\u001b[0m: 'author'"
     ]
    }
   ],
   "source": [
    "import requests\n",
    "import re\n",
    "def fetch(url):\n",
    "    \n",
    "    response = requests.get(url, cookies={'over18': '1'})  # 一直向 server 回答滿 18 歲了 !\n",
    "    return response\n",
    "\n",
    " # step-1\n",
    "\n",
    "#print(resp.text) # result of setp-1\n",
    "from requests_html import HTML\n",
    "\n",
    "def parse_article_entries(doc):\n",
    "    html = HTML(html=doc)\n",
    "    post_entries = html.find('div.r-ent')\n",
    "    return post_entries\n",
    "\n",
    "\n",
    "#print(post_entries)  # result of setp-2\n",
    "def parse_article_meta(ent):\n",
    "    ''' Step-3 (revised): parse the metadata in article entry '''\n",
    "    domain='https://www.ptt.cc/'\n",
    "    \n",
    "    # 基本要素都還在\n",
    "    meta = {\n",
    "        'title': ent.find('div.title', first=True).text,\n",
    "        'push': ent.find('div.nrec', first=True).text,\n",
    "        'date': ent.find('div.date', first=True).text,\n",
    "    }\n",
    "\n",
    "    try:\n",
    "        # 正常狀況取得資料\n",
    "        url = urllib.parse.urljoin(domain, ent.find('div.title > a', first=True).attrs['href'])\n",
    "        resp = requests.get(url)\n",
    "        content=ent.find('meta.discription', first=True).text\n",
    "        meta['author'] = ent.find('div.author', first=True).text\n",
    "        meta['link'] = ent.find('div.title > a', first=True).attrs['href']\n",
    "        meta['content']=content\n",
    "    except AttributeError:\n",
    "        # 但碰上文章被刪除時，就沒有辦法像原本的方法取得 作者 跟 連結\n",
    "        if '(本文已被刪除)' in meta['title']:\n",
    "            # e.g., \"(本文已被刪除) [haudai]\"\n",
    "            match_author = re.search('\\[(\\w*)\\]', meta['title'])\n",
    "            if match_author:\n",
    "                meta['author'] = match_author.group(1)\n",
    "        elif re.search('已被\\w*刪除', meta['title']):\n",
    "            # e.g., \"(已被cappa刪除) <edisonchu> op\"\n",
    "            match_author = re.search('\\<(\\w*)\\>', meta['title'])\n",
    "            if match_author:\n",
    "                meta['author'] = match_author.group(1)\n",
    "    return meta\n",
    "\n",
    "    # 最終仍回傳統一的 dict() 形式 paired data\n",
    "    \n",
    "\n",
    "\n",
    "\n",
    "import urllib.parse\n",
    "\n",
    "def get_metadata_from(url):\n",
    "\n",
    "    def parse_next_link(doc):\n",
    "        html = HTML(html=doc)\n",
    "        controls = html.find('.action-bar a.btn.wide')\n",
    "        link = controls[1].attrs.get('href')\n",
    "        domain='https://www.ptt.cc/'\n",
    "        return urllib.parse.urljoin(domain, link)\n",
    "\n",
    "    resp = fetch(url)\n",
    "    post_entries = parse_article_entries(resp.text)\n",
    "    next_link = parse_next_link(resp.text)\n",
    "\n",
    "    metadata = [parse_article_meta(entry) for entry in post_entries]\n",
    "    return metadata, next_link\n",
    "\n",
    "def get_paged_meta(url, num_pages):\n",
    "    collected_meta = []\n",
    "    domain='https://www.ptt.cc/'\n",
    "    for _ in range(num_pages):\n",
    "        posts, link = get_metadata_from(url)\n",
    "        collected_meta += posts\n",
    "        url = urllib.parse.urljoin(domain, link)\n",
    "\n",
    "    return collected_meta\n",
    "\n",
    "start_url = 'https://www.ptt.cc/bbs/movie/index.html'\n",
    "name=start_url.split('/')[-2]\n",
    "metadata = get_paged_meta(start_url, num_pages=5)\n",
    "for meta in metadata:\n",
    "    print( name,meta['title'], meta['date'], meta['author'],meta['content'])\n"
   ]
  },
  {
   "cell_type": "code",
   "execution_count": null,
   "metadata": {},
   "outputs": [],
   "source": []
  },
  {
   "cell_type": "code",
   "execution_count": null,
   "metadata": {},
   "outputs": [],
   "source": []
  }
 ],
 "metadata": {
  "kernelspec": {
   "display_name": "Python 3",
   "language": "python",
   "name": "python3"
  },
  "language_info": {
   "codemirror_mode": {
    "name": "ipython",
    "version": 3
   },
   "file_extension": ".py",
   "mimetype": "text/x-python",
   "name": "python",
   "nbconvert_exporter": "python",
   "pygments_lexer": "ipython3",
   "version": "3.7.3"
  }
 },
 "nbformat": 4,
 "nbformat_minor": 2
}
