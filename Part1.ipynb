{
 "cells": [
  {
   "cell_type": "markdown",
   "metadata": {},
   "source": [
    "#counting"
   ]
  },
  {
   "cell_type": "code",
   "execution_count": null,
   "metadata": {},
   "outputs": [],
   "source": [
    "def get_url(datalist):\n",
    "    url=[]\n",
    "    import numpy as np\n",
    "    for i in datalist:\n",
    "        url.append(i.split('.')[-1])\n",
    "    url=np.array(url)\n",
    "    name, count=np.unique(url,return_counts=True)\n",
    "    for i in range(0,len(name)):\n",
    "        print(i+1,name[i],count[i])"
   ]
  },
  {
   "cell_type": "code",
   "execution_count": null,
   "metadata": {},
   "outputs": [],
   "source": [
    "#intergration"
   ]
  },
  {
   "cell_type": "code",
   "execution_count": null,
   "metadata": {},
   "outputs": [],
   "source": [
    "def anonymous(x):\n",
    "    return x**2 + 1\n",
    "def integrate(fun, start, end):\n",
    "    step = 0.1\n",
    "    intercept = start\n",
    "    area = 0\n",
    "    while intercept < end:\n",
    "        intercept += step\n",
    "        h=anonymous(intercept)\n",
    "        area=area+(h*step)\n",
    "\n",
    "    return area\n",
    "print(integrate(anonymous, 0, 10))"
   ]
  },
  {
   "cell_type": "markdown",
   "metadata": {},
   "source": [
    "#multiples of three and five"
   ]
  },
  {
   "cell_type": "code",
   "execution_count": null,
   "metadata": {},
   "outputs": [],
   "source": [
    "i=1000\n",
    "def findsum(i,num=list1):\n",
    "    list11=[]\n",
    "    for k in num:\n",
    "        for s in range(0,i):\n",
    "            if s%k==0:\n",
    "                list11.append(s)\n",
    "    list11=np.array(list11)\n",
    "    list11=np.unique(list11)\n",
    "    return(sum(list11))\n",
    "    print(sum(list11))\n",
    "findsum(1000,num=[3,5])"
   ]
  }
 ],
 "metadata": {
  "kernelspec": {
   "display_name": "Python 3",
   "language": "python",
   "name": "python3"
  },
  "language_info": {
   "codemirror_mode": {
    "name": "ipython",
    "version": 3
   },
   "file_extension": ".py",
   "mimetype": "text/x-python",
   "name": "python",
   "nbconvert_exporter": "python",
   "pygments_lexer": "ipython3",
   "version": "3.7.3"
  }
 },
 "nbformat": 4,
 "nbformat_minor": 2
}
